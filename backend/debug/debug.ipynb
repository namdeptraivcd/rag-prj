{
 "cells": [
  {
   "cell_type": "code",
   "execution_count": null,
   "id": "51d25514",
   "metadata": {
    "vscode": {
     "languageId": "plaintext"
    }
   },
   "outputs": [],
   "source": [
    "from typing import List\n",
    "\n",
    "\n",
    "class EvaluationResult:\n",
    "    def __init__(self, question: str, \n",
    "                 answer: str, \n",
    "                 retrieved_docs: List, \n",
    "                 response_time: float, \n",
    "                 relevance_score: str\n",
    "                 faithfulness_score: str\n",
    "                 answer_quality_score: str):\n",
    "        self.question = question\n",
    "        self.answer\n",
    "        \n",
    "        retrieved_docs: List\n",
    "        \n",
    "        response_time: float\n",
    "        \n",
    "        relevance_score: str\n",
    "        faithfulness_score: str\n",
    "        answer_quality_score: str"
   ]
  }
 ],
 "metadata": {
  "language_info": {
   "name": "python"
  }
 },
 "nbformat": 4,
 "nbformat_minor": 5
}
