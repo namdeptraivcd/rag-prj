{
 "cells": [
  {
   "cell_type": "code",
   "execution_count": 6,
   "id": "51d25514",
   "metadata": {},
   "outputs": [
    {
     "name": "stdout",
     "output_type": "stream",
     "text": [
      "abc\n",
      "def\n",
      "\n",
      "abc\n",
      "def\n"
     ]
    }
   ],
   "source": [
    "string_list = [\"abc\", \"def\"]\n",
    "string_text = \"\"\n",
    "for i in range(len(string_list)):\n",
    "    string_text = string_text + string_list[i] + \"\\n\"\n",
    "print(string_text)\n",
    "\n",
    "string_text = \"\\n\".join(string for string in string_list)\n",
    "print(string_text)"
   ]
  },
  {
   "cell_type": "code",
   "execution_count": null,
   "id": "e5215b13",
   "metadata": {},
   "outputs": [],
   "source": []
  }
 ],
 "metadata": {
  "kernelspec": {
   "display_name": "venv (3.13.3)",
   "language": "python",
   "name": "python3"
  },
  "language_info": {
   "codemirror_mode": {
    "name": "ipython",
    "version": 3
   },
   "file_extension": ".py",
   "mimetype": "text/x-python",
   "name": "python",
   "nbconvert_exporter": "python",
   "pygments_lexer": "ipython3",
   "version": "3.13.3"
  }
 },
 "nbformat": 4,
 "nbformat_minor": 5
}
